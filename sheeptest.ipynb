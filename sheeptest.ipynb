{
 "cells": [
  {
   "cell_type": "markdown",
   "metadata": {},
   "source": [
    "# Draw a sheep"
   ]
  },
  {
   "cell_type": "markdown",
   "metadata": {},
   "source": [
    "### Easy draw"
   ]
  },
  {
   "cell_type": "code",
   "execution_count": 1,
   "metadata": {},
   "outputs": [
    {
     "name": "stdout",
     "output_type": "stream",
     "text": [
      "pygame 2.6.0 (SDL 2.28.4, Python 3.12.4)\n",
      "Hello from the pygame community. https://www.pygame.org/contribute.html\n"
     ]
    },
    {
     "ename": "SystemExit",
     "evalue": "",
     "output_type": "error",
     "traceback": [
      "An exception has occurred, use %tb to see the full traceback.\n",
      "\u001b[1;31mSystemExit\u001b[0m\n"
     ]
    },
    {
     "name": "stderr",
     "output_type": "stream",
     "text": [
      "d:\\SAP\\PygameModelling23\\venv\\Lib\\site-packages\\IPython\\core\\interactiveshell.py:3585: UserWarning: To exit: use 'exit', 'quit', or Ctrl-D.\n",
      "  warn(\"To exit: use 'exit', 'quit', or Ctrl-D.\", stacklevel=1)\n"
     ]
    }
   ],
   "source": [
    "import pygame\n",
    "import sys\n",
    "\n",
    "pygame.init()\n",
    "\n",
    "screen = pygame.display.set_mode((800, 600))\n",
    "pygame.display.set_caption(\"sheep\")\n",
    "\n",
    "WHITE = (255, 255, 255)\n",
    "BLACK = (0, 0, 0)\n",
    "\n",
    "\n",
    "# Background color\n",
    "screen.fill(WHITE)\n",
    "\n",
    "# Hesh grid Draw\n",
    "grid_size = 50\n",
    "for x in range(0, 800, grid_size):\n",
    "    pygame.draw.line(screen, BLACK, (x, 0), (x, 600), 1)\n",
    "for y in range(0, 600, grid_size):\n",
    "    pygame.draw.line(screen, BLACK, (0, y), (800, y), 1)\n",
    "\n",
    "# Body(circle)\n",
    "pygame.draw.circle(screen, BLACK, [400, 300], 200, 3)  \n",
    "\n",
    "# Head\n",
    "pygame.draw.ellipse(screen, BLACK, [150, 150, 125, 200], 3)\n",
    "\n",
    "\n",
    "#Ears\n",
    "pygame.draw.ellipse(screen, BLACK, [135, 250, 30, 100], 3)  # Left ear\n",
    "pygame.draw.ellipse(screen, BLACK, [260, 250, 30, 100], 3)  # Right ear\n",
    "\n",
    "#Face cleaning\n",
    "pygame.draw.ellipse(screen, WHITE, [152, 152, 120, 195])\n",
    "\n",
    "#Nose\n",
    "pygame.draw.circle(screen, BLACK, [190, 300], 5, 3)\n",
    "pygame.draw.circle(screen, BLACK, [225, 300], 5, 3)\n",
    "\n",
    "# Eyes\n",
    "pygame.draw.circle(screen, BLACK, [190, 220], 20, 3)  # Left eye\n",
    "pygame.draw.circle(screen, BLACK, [235, 220], 20, 3)  # Right eye\n",
    "pygame.draw.circle(screen, BLACK, [200, 225], 3)  # Left eye ball\n",
    "pygame.draw.circle(screen, BLACK, [225, 225], 3)  # Right eye ball\n",
    "\n",
    "# Tail\n",
    "pygame.draw.circle(screen, BLACK, [625, 325], 25, 3)\n",
    "\n",
    "# Legs\n",
    "pygame.draw.rect(screen, BLACK, [275, 450, 15, 100], 3)  # Right front leg\n",
    "pygame.draw.rect(screen, BLACK, [325, 475, 15, 100], 3)  # Left front leg\n",
    "pygame.draw.rect(screen, BLACK, [550, 425, 15, 150], 3)  # Left back leg\n",
    "pygame.draw.rect(screen, BLACK, [525, 450, 15, 100], 3)  # Right back leg\n",
    "\n",
    "\n",
    "pygame.display.flip()\n",
    "\n",
    "\n",
    "while True:\n",
    "    for event in pygame.event.get():\n",
    "        if event.type == pygame.QUIT:\n",
    "            pygame.quit()\n",
    "            sys.exit()\n"
   ]
  },
  {
   "cell_type": "markdown",
   "metadata": {},
   "source": [
    "### Sheep with Parameter"
   ]
  },
  {
   "cell_type": "markdown",
   "metadata": {},
   "source": [
    "```python       \n",
    "# Initial Visualization of agent\n",
    "        self.image = pygame.Surface([radius * 2, radius * 2])\n",
    "        self.image.fill(support.BACKGROUND)\n",
    "        self.image.set_colorkey(support.BACKGROUND)\n",
    "        pygame.draw.circle( \n",
    "            self.image, color,(radius, radius), radius #(radius, radius), radius\n",
    "        )\n",
    "\n",
    "\n",
    "        # Showing agent orientation with a line towards agent orientation\n",
    "        pygame.draw.line(self.image, support.BACKGROUND, (radius, radius),\n",
    "                         ((1 + np.cos(self.orientation)) * radius, (1 - np.sin(self.orientation)) * radius), 3)\n",
    "        self.rect = self.image.get_rect()\n",
    "        self.rect.x = self.position[0]\n",
    "        self.rect.y = self.position[1]\n",
    "        self.mask = pygame.mask.from_surface(self.image)'''"
   ]
  },
  {
   "cell_type": "code",
   "execution_count": 10,
   "metadata": {},
   "outputs": [
    {
     "ename": "SystemExit",
     "evalue": "",
     "output_type": "error",
     "traceback": [
      "An exception has occurred, use %tb to see the full traceback.\n",
      "\u001b[1;31mSystemExit\u001b[0m\n"
     ]
    }
   ],
   "source": [
    "import pygame\n",
    "import sys\n",
    "\n",
    "pygame.init()\n",
    "\n",
    "screen_width = 800\n",
    "screen_height = 600\n",
    "screen = pygame.display.set_mode((screen_width, screen_height))\n",
    "pygame.display.set_caption(\"sheep\")\n",
    "\n",
    "WHITE = (255, 255, 255)\n",
    "BLACK = (0, 0, 0)\n",
    "\n",
    "\n",
    "# Background color\n",
    "screen.fill(WHITE)\n",
    "\n",
    "\n",
    "# Hesh grid Draw\n",
    "grid_size = 50\n",
    "for x in range(0, 800, grid_size):\n",
    "    pygame.draw.line(screen, BLACK, (x, 0), (x, 600), 1)\n",
    "for y in range(0, 600, grid_size):\n",
    "    pygame.draw.line(screen, BLACK, (0, y), (800, y), 1)\n",
    "\n",
    "Radius = 200\n",
    "\n",
    "# Body(circle)\n",
    "pygame.draw.circle(screen, BLACK, [screen_width/2 , screen_height/2], Radius, 3)  \n",
    "\n",
    "# Head\n",
    "#pygame.draw.ellipse(screen, BLACK, [150, 150, 125, 200], 3)\n",
    "head_width = Radius // 2\n",
    "head_height = Radius\n",
    "pygame.draw.ellipse(screen, BLACK, [screen_width/2 - Radius, screen_height/2 - Radius, head_width, head_height], 3)\n",
    "\n",
    "\n",
    "#Ears\n",
    "ear_width = Radius // 3\n",
    "ear_height = Radius // 2\n",
    "pygame.draw.ellipse(screen, BLACK, [135, 250, 30, 100])  # Left ear\n",
    "pygame.draw.ellipse(screen, BLACK, [260, 250, 30, 100])  # Right ear\n",
    "\n",
    "#Face cleaning\n",
    "#pygame.draw.ellipse(screen, WHITE, [152, 152, 120, 195])\n",
    "pygame.draw.ellipse(screen, WHITE, [screen_width/2 - Radius +2 , screen_height/2 - Radius +2, head_width -5, head_height-5])\n",
    "\n",
    "#Nose\n",
    "pygame.draw.circle(screen, BLACK, [200, 300], 5, 3)\n",
    "pygame.draw.circle(screen, BLACK, [225, 300], 5, 3)\n",
    "\n",
    "# Eyes\n",
    "pygame.draw.circle(screen, BLACK, [190, 220], 20, 3)  # Left eye\n",
    "pygame.draw.circle(screen, BLACK, [235, 220], 20, 3)  # Right eye\n",
    "pygame.draw.circle(screen, BLACK, [200, 225], 3)  # Left eye ball\n",
    "pygame.draw.circle(screen, BLACK, [225, 225], 3)  # Right eye ball\n",
    "\n",
    "# Tail\n",
    "pygame.draw.circle(screen, BLACK, [625, 325], 25)\n",
    "\n",
    "# Legs\n",
    "pygame.draw.rect(screen, BLACK, [275, 450, 15, 100], 3)  # Right front leg\n",
    "pygame.draw.rect(screen, BLACK, [325, 475, 15, 100], 3)  # Left front leg\n",
    "pygame.draw.rect(screen, BLACK, [550, 425, 15, 150], 3)  # Left back leg\n",
    "pygame.draw.rect(screen, BLACK, [525, 450, 15, 100], 3)  # Right back leg\n",
    "\n",
    "\n",
    "pygame.display.flip()\n",
    "\n",
    "\n",
    "while True:\n",
    "    for event in pygame.event.get():\n",
    "        if event.type == pygame.QUIT:\n",
    "            pygame.quit()\n",
    "            sys.exit()"
   ]
  },
  {
   "cell_type": "code",
   "execution_count": 12,
   "metadata": {},
   "outputs": [
    {
     "ename": "SystemExit",
     "evalue": "",
     "output_type": "error",
     "traceback": [
      "An exception has occurred, use %tb to see the full traceback.\n",
      "\u001b[1;31mSystemExit\u001b[0m\n"
     ]
    }
   ],
   "source": [
    "import pygame\n",
    "import sys\n",
    "\n",
    "# 初始化Pygame\n",
    "pygame.init()\n",
    "\n",
    "# 设置屏幕尺寸\n",
    "screen = pygame.display.set_mode((800, 600))\n",
    "pygame.display.set_caption(\"用Radius参数画一只羊\")\n",
    "\n",
    "\n",
    "# 定义颜色\n",
    "WHITE = (255, 255, 255)\n",
    "BLACK = (0, 0, 0)\n",
    "# 定义半径参数\n",
    "Radius = 50\n",
    "\n",
    "# 设置背景颜色\n",
    "screen.fill(WHITE)\n",
    "\n",
    "\n",
    "\n",
    "\n",
    "# 绘制羊的身体（椭圆，用半径来控制大小）\n",
    "body_width = 3 * Radius\n",
    "body_height = 2 * Radius\n",
    "pygame.draw.ellipse(screen, BLACK, [200 - body_width // 2, 200 - body_height // 2, body_width, body_height], 3)\n",
    "\n",
    "# 绘制羊的头部（圆）\n",
    "head_radius = Radius // 2\n",
    "pygame.draw.circle(screen, BLACK, (200 + body_width // 2 - head_radius, 200 - head_radius), head_radius, 3)\n",
    "\n",
    "# 绘制羊的眼睛（两个小圆）\n",
    "eye_radius = Radius // 8\n",
    "pygame.draw.circle(screen, BLACK, (200 + body_width // 2 - head_radius - eye_radius, 200 - head_radius // 2), eye_radius)\n",
    "pygame.draw.circle(screen, BLACK, (200 + body_width // 2 - head_radius + eye_radius, 200 - head_radius // 2), eye_radius)\n",
    "\n",
    "# 绘制羊的耳朵（两个小椭圆）\n",
    "ear_width = Radius // 3\n",
    "ear_height = Radius // 2\n",
    "pygame.draw.ellipse(screen, BLACK, [200 + body_width // 2 - head_radius - ear_width, 200 - head_radius, ear_width, ear_height], 3)\n",
    "pygame.draw.ellipse(screen, BLACK, [200 + body_width // 2 - head_radius, 200 - head_radius, ear_width, ear_height], 3)\n",
    "\n",
    "# 绘制羊的腿（矩形）\n",
    "leg_width = Radius // 4\n",
    "leg_height = Radius // 2\n",
    "pygame.draw.rect(screen, BLACK, [200 - body_width // 4 - leg_width // 2, 200 + body_height // 2 - 5, leg_width, leg_height])\n",
    "pygame.draw.rect(screen, BLACK, [200 + body_width // 4 - leg_width // 2, 200 + body_height // 2 - 5, leg_width, leg_height])\n",
    "\n",
    "# 刷新屏幕以显示图像\n",
    "pygame.display.flip()\n",
    "\n",
    "# 退出事件处理\n",
    "while True:\n",
    "    for event in pygame.event.get():\n",
    "        if event.type == pygame.QUIT:\n",
    "            pygame.quit()\n",
    "            sys.exit()\n"
   ]
  }
 ],
 "metadata": {
  "kernelspec": {
   "display_name": "venv",
   "language": "python",
   "name": "python3"
  },
  "language_info": {
   "codemirror_mode": {
    "name": "ipython",
    "version": 3
   },
   "file_extension": ".py",
   "mimetype": "text/x-python",
   "name": "python",
   "nbconvert_exporter": "python",
   "pygments_lexer": "ipython3",
   "version": "3.12.4"
  }
 },
 "nbformat": 4,
 "nbformat_minor": 2
}
